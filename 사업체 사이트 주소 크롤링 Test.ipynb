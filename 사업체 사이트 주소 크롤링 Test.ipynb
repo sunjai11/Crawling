{
 "cells": [
  {
   "cell_type": "code",
   "execution_count": 106,
   "metadata": {},
   "outputs": [],
   "source": [
    "import requests\n",
    "from selenium import webdriver\n",
    "from bs4 import BeautifulSoup as bs\n",
    "from selenium.webdriver.common.keys import Keys\n",
    "import urllib.request\n",
    "import urllib.parse\n",
    "import pandas as pd\n",
    "import time\n",
    "from selenium.webdriver import ActionChains\n",
    "from random import *\n",
    "#----------띄우기------------------\n",
    "driver = webdriver.Chrome('./chromedriver.exe')\n",
    "url='https://www.airbnb.co.kr/s/%EB%A7%88%ED%8F%AC%EA%B5%AC/homes?adults=1&refinement_paths%5B%5D=%2Fhomes'\n",
    "driver.get(url)\n",
    "urllist=[]"
   ]
  },
  {
   "cell_type": "code",
   "execution_count": 99,
   "metadata": {},
   "outputs": [],
   "source": [
    "#밑으로 내리고 주소 저장\n",
    "tag=driver.find_element_by_css_selector('#ExploreLayoutController > div._10ljxo8 > div._1gw6tte > div > div > div._99vlue > nav > div > a._za9j7e > svg')\n",
    "ActionChains(driver).move_to_element(tag).perform()\n",
    "soup = bs(driver.page_source, 'html.parser')\n",
    "a=soup.find_all('meta',itemprop=\"url\")\n",
    "for i in range(len(a)):\n",
    "    urllist.append(a[i])"
   ]
  },
  {
   "cell_type": "code",
   "execution_count": 100,
   "metadata": {},
   "outputs": [],
   "source": [
    "#다음 페이지로 이동\n",
    "right=driver.find_element_by_css_selector('#ExploreLayoutController > div._10ljxo8 > div._1gw6tte > div > div > div._99vlue > nav > div > a._za9j7e > svg')\n",
    "right.click()"
   ]
  },
  {
   "cell_type": "code",
   "execution_count": 146,
   "metadata": {},
   "outputs": [],
   "source": [
    "#문자열로 바꾸기\n",
    "strlist=[]\n",
    "for keys in urllist:\n",
    "    strkey=str(keys)\n",
    "    strlist.append(strkey)\n",
    "#엑셀로 저장하기\n",
    "df=pd.DataFrame(strlist)\n",
    "df.to_excel('gu.xlsx')"
   ]
  }
 ],
 "metadata": {
  "kernelspec": {
   "display_name": "Python 3",
   "language": "python",
   "name": "python3"
  },
  "language_info": {
   "codemirror_mode": {
    "name": "ipython",
    "version": 3
   },
   "file_extension": ".py",
   "mimetype": "text/x-python",
   "name": "python",
   "nbconvert_exporter": "python",
   "pygments_lexer": "ipython3",
   "version": "3.7.3"
  }
 },
 "nbformat": 4,
 "nbformat_minor": 2
}
